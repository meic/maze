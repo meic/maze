{
 "cells": [
  {
   "cell_type": "code",
   "execution_count": 1,
   "id": "93f9d5b4",
   "metadata": {},
   "outputs": [],
   "source": [
    "from mazelib import Maze"
   ]
  },
  {
   "cell_type": "code",
   "execution_count": 2,
   "id": "6d1f3844",
   "metadata": {},
   "outputs": [],
   "source": [
    "from mazelib.generate.Prims import Prims"
   ]
  },
  {
   "cell_type": "code",
   "execution_count": 3,
   "id": "db067d51",
   "metadata": {},
   "outputs": [],
   "source": [
    "m = Maze()"
   ]
  },
  {
   "cell_type": "code",
   "execution_count": 31,
   "id": "90b1da9c",
   "metadata": {},
   "outputs": [],
   "source": [
    "m.generator = Prims(10, 10)"
   ]
  },
  {
   "cell_type": "code",
   "execution_count": 32,
   "id": "1f735f7e",
   "metadata": {},
   "outputs": [],
   "source": [
    "m.generate()"
   ]
  },
  {
   "cell_type": "code",
   "execution_count": 33,
   "id": "c9aae421",
   "metadata": {},
   "outputs": [],
   "source": [
    "# m.generate_entrances()"
   ]
  },
  {
   "cell_type": "code",
   "execution_count": 34,
   "id": "f0f321c5",
   "metadata": {},
   "outputs": [
    {
     "data": {
      "text/plain": [
       "#####################\n",
       "#   #           # # #\n",
       "# ##### ### ### # # #\n",
       "#       #     # #   #\n",
       "# ### ##### ### ### #\n",
       "# #   # #   #   #   #\n",
       "####### ####### ### #\n",
       "#   # # #           #\n",
       "### # # ####### # ###\n",
       "#       #     # #   #\n",
       "##### # ### ##### ###\n",
       "#   # #       #     #\n",
       "### # # ### ##### # #\n",
       "# # # # #         # #\n",
       "# # ####### ##### # #\n",
       "#       #   #     # #\n",
       "# ### # ####### ### #\n",
       "# # # # #     # # # #\n",
       "# # # # ##### # # # #\n",
       "# #   #           # #\n",
       "#####################"
      ]
     },
     "execution_count": 34,
     "metadata": {},
     "output_type": "execute_result"
    }
   ],
   "source": [
    "m"
   ]
  },
  {
   "cell_type": "code",
   "execution_count": 23,
   "id": "1c277790",
   "metadata": {},
   "outputs": [
    {
     "data": {
      "text/plain": [
       "array([[1, 1, 1, 1, 1, 1, 1, 1, 1, 1, 1, 1, 1, 1, 1, 1, 1, 1, 1, 1, 1],\n",
       "       [1, 0, 1, 0, 0, 0, 1, 0, 0, 0, 1, 0, 1, 0, 0, 0, 0, 0, 0, 0, 1],\n",
       "       [1, 0, 1, 0, 1, 0, 1, 1, 1, 0, 1, 0, 1, 1, 1, 0, 1, 1, 1, 1, 1],\n",
       "       [1, 0, 0, 0, 1, 0, 0, 0, 1, 0, 1, 0, 1, 0, 0, 0, 0, 0, 1, 0, 1],\n",
       "       [1, 1, 1, 1, 1, 1, 1, 0, 1, 0, 1, 0, 1, 1, 1, 0, 1, 1, 1, 0, 1],\n",
       "       [1, 0, 1, 0, 1, 0, 0, 0, 0, 0, 0, 0, 0, 0, 0, 0, 0, 0, 0, 0, 1],\n",
       "       [1, 0, 1, 0, 1, 1, 1, 1, 1, 0, 1, 1, 1, 0, 1, 0, 1, 1, 1, 1, 1],\n",
       "       [1, 0, 0, 0, 0, 0, 0, 0, 0, 0, 1, 0, 0, 0, 1, 0, 0, 0, 1, 0, 1],\n",
       "       [1, 0, 1, 0, 1, 0, 1, 1, 1, 1, 1, 1, 1, 0, 1, 1, 1, 0, 1, 0, 1],\n",
       "       [1, 0, 1, 0, 1, 0, 1, 0, 1, 0, 1, 0, 0, 0, 0, 0, 1, 0, 0, 0, 1],\n",
       "       [1, 1, 1, 1, 1, 1, 1, 0, 1, 0, 1, 0, 1, 0, 1, 1, 1, 0, 1, 1, 1],\n",
       "       [1, 0, 0, 0, 1, 0, 1, 0, 0, 0, 1, 0, 1, 0, 0, 0, 1, 0, 0, 0, 1],\n",
       "       [1, 1, 1, 0, 1, 0, 1, 1, 1, 0, 1, 1, 1, 1, 1, 1, 1, 0, 1, 0, 1],\n",
       "       [1, 0, 1, 0, 1, 0, 0, 0, 0, 0, 0, 0, 0, 0, 1, 0, 0, 0, 1, 0, 1],\n",
       "       [1, 0, 1, 0, 1, 0, 1, 0, 1, 1, 1, 0, 1, 0, 1, 1, 1, 0, 1, 0, 1],\n",
       "       [1, 0, 0, 0, 0, 0, 1, 0, 0, 0, 1, 0, 1, 0, 0, 0, 0, 0, 1, 0, 1],\n",
       "       [1, 0, 1, 1, 1, 0, 1, 1, 1, 1, 1, 0, 1, 0, 1, 1, 1, 0, 1, 1, 1],\n",
       "       [1, 0, 1, 0, 0, 0, 1, 0, 1, 0, 0, 0, 1, 0, 1, 0, 1, 0, 0, 0, 1],\n",
       "       [1, 0, 1, 1, 1, 1, 1, 0, 1, 0, 1, 1, 1, 0, 1, 0, 1, 0, 1, 1, 1],\n",
       "       [1, 0, 0, 0, 0, 0, 1, 0, 0, 0, 0, 0, 1, 0, 0, 0, 1, 0, 0, 0, 1],\n",
       "       [1, 1, 1, 1, 1, 1, 1, 1, 1, 1, 1, 1, 1, 1, 1, 1, 1, 1, 1, 1, 1]],\n",
       "      dtype=int8)"
      ]
     },
     "execution_count": 23,
     "metadata": {},
     "output_type": "execute_result"
    }
   ],
   "source": [
    "m.grid"
   ]
  },
  {
   "cell_type": "code",
   "execution_count": null,
   "id": "d7d58733",
   "metadata": {},
   "outputs": [],
   "source": []
  }
 ],
 "metadata": {
  "kernelspec": {
   "display_name": "Django Shell-Plus",
   "language": "python",
   "name": "django_extensions"
  },
  "language_info": {
   "codemirror_mode": {
    "name": "ipython",
    "version": 3
   },
   "file_extension": ".py",
   "mimetype": "text/x-python",
   "name": "python",
   "nbconvert_exporter": "python",
   "pygments_lexer": "ipython3",
   "version": "3.9.5"
  }
 },
 "nbformat": 4,
 "nbformat_minor": 5
}
